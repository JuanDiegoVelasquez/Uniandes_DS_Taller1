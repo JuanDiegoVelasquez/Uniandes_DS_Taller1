{
 "cells": [
  {
   "cell_type": "markdown",
   "id": "65642d56-c596-4f2b-9bb1-90e2c403b899",
   "metadata": {},
   "source": [
    "<a href=\"https://colab.research.google.com/github/datascience-uniandes/data-analysis-tutorial/blob/master/airbnb/eda.ipynb\" target=\"_parent\"><img src=\"https://colab.research.google.com/assets/colab-badge.svg\" alt=\"Open In Colab\"/></a>"
   ]
  },
  {
   "cell_type": "markdown",
   "id": "5ed0788a-edef-4304-a544-c35aed7bb02c",
   "metadata": {},
   "source": [
    "# Exploratory Data Analysis (EDA)\n",
    "\n",
    "MINE-4101: Applied Data Science  \n",
    "Univerisdad de los Andes  \n",
    "\n",
    "**Business Context:** Property Investment and Vacation Rental Strategy. Imagine you're a consultant for individuals or firms looking to invest in properties for Airbnb rentals. They want to identify the most lucrative neighborhoods, optimal pricing strategies, and understand the factors that contribute to positive reviews and frequent bookings."
   ]
  },
  {
   "cell_type": "code",
   "execution_count": 1,
   "id": "fa878881-66df-4d8e-b792-1d65470a8dc5",
   "metadata": {},
   "outputs": [
    {
     "name": "stderr",
     "output_type": "stream",
     "text": [
      "d:\\ProgramData\\Anaconda3\\lib\\site-packages\\tqdm\\auto.py:22: TqdmWarning: IProgress not found. Please update jupyter and ipywidgets. See https://ipywidgets.readthedocs.io/en/stable/user_install.html\n",
      "  from .autonotebook import tqdm as notebook_tqdm\n"
     ]
    }
   ],
   "source": [
    "import pandas as pd\n",
    "import numpy as np\n",
    "from ydata_profiling import ProfileReport\n",
    "\n",
    "import matplotlib.pyplot as plt\n",
    "import seaborn as sns\n",
    "from datetime import datetime\n",
    "from datetime import date"
   ]
  },
  {
   "cell_type": "code",
   "execution_count": 2,
   "id": "934e72ec-a2c1-45ec-a6fc-a4acb80950d8",
   "metadata": {},
   "outputs": [],
   "source": [
    "# Pandas configuration for extending the number of columns and rows to show\n",
    "pd.set_option(\"display.max_columns\", None)\n",
    "pd.set_option(\"display.max_rows\", 100)"
   ]
  },
  {
   "cell_type": "markdown",
   "id": "8877beda-27b4-4c17-9d6b-6328db41ac08",
   "metadata": {},
   "source": [
    "## 1. Loading the data"
   ]
  },
  {
   "cell_type": "code",
   "execution_count": 3,
   "id": "7840e83b-2f32-438f-a8d2-20ef259cf3ac",
   "metadata": {},
   "outputs": [],
   "source": [
    "# Loading the CSV file as dataframe\n",
    "listings_df = pd.read_csv(\"./milan_listings.csv\")"
   ]
  },
  {
   "cell_type": "code",
   "execution_count": 4,
   "id": "7fdc067c-1aff-4859-b40e-183cc292dfcd",
   "metadata": {},
   "outputs": [
    {
     "data": {
      "text/plain": [
       "(24346, 75)"
      ]
     },
     "execution_count": 4,
     "metadata": {},
     "output_type": "execute_result"
    }
   ],
   "source": [
    "# Showing dataframe dimensions\n",
    "listings_df.shape"
   ]
  },
  {
   "cell_type": "code",
   "execution_count": 5,
   "id": "666da89f-03fa-434d-a366-7fc2e399a731",
   "metadata": {},
   "outputs": [
    {
     "data": {
      "text/plain": [
       "id                                                int64\n",
       "listing_url                                      object\n",
       "scrape_id                                         int64\n",
       "last_scraped                                     object\n",
       "source                                           object\n",
       "name                                             object\n",
       "description                                      object\n",
       "neighborhood_overview                            object\n",
       "picture_url                                      object\n",
       "host_id                                           int64\n",
       "host_url                                         object\n",
       "host_name                                        object\n",
       "host_since                                       object\n",
       "host_location                                    object\n",
       "host_about                                       object\n",
       "host_response_time                               object\n",
       "host_response_rate                               object\n",
       "host_acceptance_rate                             object\n",
       "host_is_superhost                                object\n",
       "host_thumbnail_url                               object\n",
       "host_picture_url                                 object\n",
       "host_neighbourhood                               object\n",
       "host_listings_count                               int64\n",
       "host_total_listings_count                         int64\n",
       "host_verifications                               object\n",
       "host_has_profile_pic                             object\n",
       "host_identity_verified                           object\n",
       "neighbourhood                                    object\n",
       "neighbourhood_cleansed                           object\n",
       "neighbourhood_group_cleansed                    float64\n",
       "latitude                                        float64\n",
       "longitude                                       float64\n",
       "property_type                                    object\n",
       "room_type                                        object\n",
       "accommodates                                      int64\n",
       "bathrooms                                       float64\n",
       "bathrooms_text                                   object\n",
       "bedrooms                                        float64\n",
       "beds                                            float64\n",
       "amenities                                        object\n",
       "price                                            object\n",
       "minimum_nights                                    int64\n",
       "maximum_nights                                    int64\n",
       "minimum_minimum_nights                            int64\n",
       "maximum_minimum_nights                            int64\n",
       "minimum_maximum_nights                            int64\n",
       "maximum_maximum_nights                            int64\n",
       "minimum_nights_avg_ntm                          float64\n",
       "maximum_nights_avg_ntm                          float64\n",
       "calendar_updated                                float64\n",
       "has_availability                                 object\n",
       "availability_30                                   int64\n",
       "availability_60                                   int64\n",
       "availability_90                                   int64\n",
       "availability_365                                  int64\n",
       "calendar_last_scraped                            object\n",
       "number_of_reviews                                 int64\n",
       "number_of_reviews_ltm                             int64\n",
       "number_of_reviews_l30d                            int64\n",
       "first_review                                     object\n",
       "last_review                                      object\n",
       "review_scores_rating                            float64\n",
       "review_scores_accuracy                          float64\n",
       "review_scores_cleanliness                       float64\n",
       "review_scores_checkin                           float64\n",
       "review_scores_communication                     float64\n",
       "review_scores_location                          float64\n",
       "review_scores_value                             float64\n",
       "license                                          object\n",
       "instant_bookable                                 object\n",
       "calculated_host_listings_count                    int64\n",
       "calculated_host_listings_count_entire_homes       int64\n",
       "calculated_host_listings_count_private_rooms      int64\n",
       "calculated_host_listings_count_shared_rooms       int64\n",
       "reviews_per_month                               float64\n",
       "dtype: object"
      ]
     },
     "execution_count": 5,
     "metadata": {},
     "output_type": "execute_result"
    }
   ],
   "source": [
    "# Showing column types\n",
    "listings_df.dtypes"
   ]
  },
  {
   "cell_type": "code",
   "execution_count": 6,
   "id": "bd41edc2-6d04-4d10-a77d-2ed0f962b657",
   "metadata": {},
   "outputs": [
    {
     "data": {
      "text/html": [
       "<div>\n",
       "<style scoped>\n",
       "    .dataframe tbody tr th:only-of-type {\n",
       "        vertical-align: middle;\n",
       "    }\n",
       "\n",
       "    .dataframe tbody tr th {\n",
       "        vertical-align: top;\n",
       "    }\n",
       "\n",
       "    .dataframe thead th {\n",
       "        text-align: right;\n",
       "    }\n",
       "</style>\n",
       "<table border=\"1\" class=\"dataframe\">\n",
       "  <thead>\n",
       "    <tr style=\"text-align: right;\">\n",
       "      <th></th>\n",
       "      <th>id</th>\n",
       "      <th>listing_url</th>\n",
       "      <th>scrape_id</th>\n",
       "      <th>last_scraped</th>\n",
       "      <th>source</th>\n",
       "      <th>name</th>\n",
       "      <th>description</th>\n",
       "      <th>neighborhood_overview</th>\n",
       "      <th>picture_url</th>\n",
       "      <th>host_id</th>\n",
       "      <th>host_url</th>\n",
       "      <th>host_name</th>\n",
       "      <th>host_since</th>\n",
       "      <th>host_location</th>\n",
       "      <th>host_about</th>\n",
       "      <th>host_response_time</th>\n",
       "      <th>host_response_rate</th>\n",
       "      <th>host_acceptance_rate</th>\n",
       "      <th>host_is_superhost</th>\n",
       "      <th>host_thumbnail_url</th>\n",
       "      <th>host_picture_url</th>\n",
       "      <th>host_neighbourhood</th>\n",
       "      <th>host_listings_count</th>\n",
       "      <th>host_total_listings_count</th>\n",
       "      <th>host_verifications</th>\n",
       "      <th>host_has_profile_pic</th>\n",
       "      <th>host_identity_verified</th>\n",
       "      <th>neighbourhood</th>\n",
       "      <th>neighbourhood_cleansed</th>\n",
       "      <th>neighbourhood_group_cleansed</th>\n",
       "      <th>latitude</th>\n",
       "      <th>longitude</th>\n",
       "      <th>property_type</th>\n",
       "      <th>room_type</th>\n",
       "      <th>accommodates</th>\n",
       "      <th>bathrooms</th>\n",
       "      <th>bathrooms_text</th>\n",
       "      <th>bedrooms</th>\n",
       "      <th>beds</th>\n",
       "      <th>amenities</th>\n",
       "      <th>price</th>\n",
       "      <th>minimum_nights</th>\n",
       "      <th>maximum_nights</th>\n",
       "      <th>minimum_minimum_nights</th>\n",
       "      <th>maximum_minimum_nights</th>\n",
       "      <th>minimum_maximum_nights</th>\n",
       "      <th>maximum_maximum_nights</th>\n",
       "      <th>minimum_nights_avg_ntm</th>\n",
       "      <th>maximum_nights_avg_ntm</th>\n",
       "      <th>calendar_updated</th>\n",
       "      <th>has_availability</th>\n",
       "      <th>availability_30</th>\n",
       "      <th>availability_60</th>\n",
       "      <th>availability_90</th>\n",
       "      <th>availability_365</th>\n",
       "      <th>calendar_last_scraped</th>\n",
       "      <th>number_of_reviews</th>\n",
       "      <th>number_of_reviews_ltm</th>\n",
       "      <th>number_of_reviews_l30d</th>\n",
       "      <th>first_review</th>\n",
       "      <th>last_review</th>\n",
       "      <th>review_scores_rating</th>\n",
       "      <th>review_scores_accuracy</th>\n",
       "      <th>review_scores_cleanliness</th>\n",
       "      <th>review_scores_checkin</th>\n",
       "      <th>review_scores_communication</th>\n",
       "      <th>review_scores_location</th>\n",
       "      <th>review_scores_value</th>\n",
       "      <th>license</th>\n",
       "      <th>instant_bookable</th>\n",
       "      <th>calculated_host_listings_count</th>\n",
       "      <th>calculated_host_listings_count_entire_homes</th>\n",
       "      <th>calculated_host_listings_count_private_rooms</th>\n",
       "      <th>calculated_host_listings_count_shared_rooms</th>\n",
       "      <th>reviews_per_month</th>\n",
       "    </tr>\n",
       "  </thead>\n",
       "  <tbody>\n",
       "    <tr>\n",
       "      <th>0</th>\n",
       "      <td>6400</td>\n",
       "      <td>https://www.airbnb.com/rooms/6400</td>\n",
       "      <td>20240622024403</td>\n",
       "      <td>2024-06-22</td>\n",
       "      <td>city scrape</td>\n",
       "      <td>The Studio Milan</td>\n",
       "      <td>Enjoy your stay at The Studio, a light-filled ...</td>\n",
       "      <td>The neighborhood is quiet and very well connec...</td>\n",
       "      <td>https://a0.muscache.com/pictures/474737/5955ba...</td>\n",
       "      <td>13822</td>\n",
       "      <td>https://www.airbnb.com/users/show/13822</td>\n",
       "      <td>Francesca</td>\n",
       "      <td>2009-04-17</td>\n",
       "      <td>Milan, Italy</td>\n",
       "      <td>I'm am Francesca Sottilaro, i live in Milan an...</td>\n",
       "      <td>within a day</td>\n",
       "      <td>100%</td>\n",
       "      <td>0%</td>\n",
       "      <td>f</td>\n",
       "      <td>https://a0.muscache.com/im/users/13822/profile...</td>\n",
       "      <td>https://a0.muscache.com/im/users/13822/profile...</td>\n",
       "      <td>Zona 5</td>\n",
       "      <td>1</td>\n",
       "      <td>2</td>\n",
       "      <td>['email', 'phone']</td>\n",
       "      <td>t</td>\n",
       "      <td>f</td>\n",
       "      <td>Milan, Lombardy, Italy</td>\n",
       "      <td>TIBALDI</td>\n",
       "      <td>NaN</td>\n",
       "      <td>45.44119</td>\n",
       "      <td>9.17813</td>\n",
       "      <td>Private room in rental unit</td>\n",
       "      <td>Private room</td>\n",
       "      <td>1</td>\n",
       "      <td>3.5</td>\n",
       "      <td>3.5 baths</td>\n",
       "      <td>3.0</td>\n",
       "      <td>1.0</td>\n",
       "      <td>[\"Washer\", \"Heating\", \"TV\", \"Hangers\", \"Wifi\",...</td>\n",
       "      <td>$100.00</td>\n",
       "      <td>4</td>\n",
       "      <td>5</td>\n",
       "      <td>4</td>\n",
       "      <td>4</td>\n",
       "      <td>5</td>\n",
       "      <td>5</td>\n",
       "      <td>4.0</td>\n",
       "      <td>5.0</td>\n",
       "      <td>NaN</td>\n",
       "      <td>t</td>\n",
       "      <td>23</td>\n",
       "      <td>53</td>\n",
       "      <td>83</td>\n",
       "      <td>358</td>\n",
       "      <td>2024-06-22</td>\n",
       "      <td>10</td>\n",
       "      <td>0</td>\n",
       "      <td>0</td>\n",
       "      <td>2010-04-19</td>\n",
       "      <td>2019-04-13</td>\n",
       "      <td>4.89</td>\n",
       "      <td>5.00</td>\n",
       "      <td>5.00</td>\n",
       "      <td>5.00</td>\n",
       "      <td>5.00</td>\n",
       "      <td>4.56</td>\n",
       "      <td>4.67</td>\n",
       "      <td>NaN</td>\n",
       "      <td>f</td>\n",
       "      <td>1</td>\n",
       "      <td>0</td>\n",
       "      <td>1</td>\n",
       "      <td>0</td>\n",
       "      <td>0.06</td>\n",
       "    </tr>\n",
       "    <tr>\n",
       "      <th>1</th>\n",
       "      <td>304050</td>\n",
       "      <td>https://www.airbnb.com/rooms/304050</td>\n",
       "      <td>20240622024403</td>\n",
       "      <td>2024-06-23</td>\n",
       "      <td>city scrape</td>\n",
       "      <td>Good starting point to discover Mi</td>\n",
       "      <td>NaN</td>\n",
       "      <td>NaN</td>\n",
       "      <td>https://a0.muscache.com/pictures/4234186/e05e9...</td>\n",
       "      <td>1566887</td>\n",
       "      <td>https://www.airbnb.com/users/show/1566887</td>\n",
       "      <td>Elena</td>\n",
       "      <td>2012-01-04</td>\n",
       "      <td>Milan, Italy</td>\n",
       "      <td>Hi! I'm a teacher of Italian to foreigners and...</td>\n",
       "      <td>within a day</td>\n",
       "      <td>60%</td>\n",
       "      <td>65%</td>\n",
       "      <td>f</td>\n",
       "      <td>https://a0.muscache.com/im/pictures/user/User-...</td>\n",
       "      <td>https://a0.muscache.com/im/pictures/user/User-...</td>\n",
       "      <td>Porta Vittoria</td>\n",
       "      <td>3</td>\n",
       "      <td>3</td>\n",
       "      <td>['email', 'phone']</td>\n",
       "      <td>t</td>\n",
       "      <td>t</td>\n",
       "      <td>NaN</td>\n",
       "      <td>XXII MARZO</td>\n",
       "      <td>NaN</td>\n",
       "      <td>45.45709</td>\n",
       "      <td>9.21531</td>\n",
       "      <td>Private room in rental unit</td>\n",
       "      <td>Private room</td>\n",
       "      <td>1</td>\n",
       "      <td>1.0</td>\n",
       "      <td>1 private bath</td>\n",
       "      <td>1.0</td>\n",
       "      <td>1.0</td>\n",
       "      <td>[\"Washer\", \"Children\\u2019s books and toys\", \"...</td>\n",
       "      <td>$60.00</td>\n",
       "      <td>2</td>\n",
       "      <td>15</td>\n",
       "      <td>2</td>\n",
       "      <td>2</td>\n",
       "      <td>15</td>\n",
       "      <td>15</td>\n",
       "      <td>2.0</td>\n",
       "      <td>15.0</td>\n",
       "      <td>NaN</td>\n",
       "      <td>t</td>\n",
       "      <td>5</td>\n",
       "      <td>7</td>\n",
       "      <td>9</td>\n",
       "      <td>221</td>\n",
       "      <td>2024-06-23</td>\n",
       "      <td>275</td>\n",
       "      <td>27</td>\n",
       "      <td>4</td>\n",
       "      <td>2012-09-08</td>\n",
       "      <td>2024-06-10</td>\n",
       "      <td>4.91</td>\n",
       "      <td>4.93</td>\n",
       "      <td>4.91</td>\n",
       "      <td>4.94</td>\n",
       "      <td>4.97</td>\n",
       "      <td>4.80</td>\n",
       "      <td>4.90</td>\n",
       "      <td>NaN</td>\n",
       "      <td>f</td>\n",
       "      <td>2</td>\n",
       "      <td>1</td>\n",
       "      <td>1</td>\n",
       "      <td>0</td>\n",
       "      <td>1.92</td>\n",
       "    </tr>\n",
       "    <tr>\n",
       "      <th>2</th>\n",
       "      <td>23986</td>\n",
       "      <td>https://www.airbnb.com/rooms/23986</td>\n",
       "      <td>20240622024403</td>\n",
       "      <td>2024-06-22</td>\n",
       "      <td>city scrape</td>\n",
       "      <td>\" Characteristic Milanese flat\"</td>\n",
       "      <td>I look forward to welcoming you in my flat; it...</td>\n",
       "      <td>NaN</td>\n",
       "      <td>https://a0.muscache.com/pictures/623d63f8-56cf...</td>\n",
       "      <td>95941</td>\n",
       "      <td>https://www.airbnb.com/users/show/95941</td>\n",
       "      <td>Jeremy</td>\n",
       "      <td>2010-03-19</td>\n",
       "      <td>Milan, Italy</td>\n",
       "      <td>Hallo , I'm Jeremy Hayne I live in Milan and I...</td>\n",
       "      <td>within a day</td>\n",
       "      <td>100%</td>\n",
       "      <td>25%</td>\n",
       "      <td>f</td>\n",
       "      <td>https://a0.muscache.com/im/users/95941/profile...</td>\n",
       "      <td>https://a0.muscache.com/im/users/95941/profile...</td>\n",
       "      <td>Navigli</td>\n",
       "      <td>1</td>\n",
       "      <td>1</td>\n",
       "      <td>['email']</td>\n",
       "      <td>t</td>\n",
       "      <td>t</td>\n",
       "      <td>NaN</td>\n",
       "      <td>NAVIGLI</td>\n",
       "      <td>NaN</td>\n",
       "      <td>45.44806</td>\n",
       "      <td>9.17373</td>\n",
       "      <td>Entire rental unit</td>\n",
       "      <td>Entire home/apt</td>\n",
       "      <td>4</td>\n",
       "      <td>1.0</td>\n",
       "      <td>1 bath</td>\n",
       "      <td>1.0</td>\n",
       "      <td>1.0</td>\n",
       "      <td>[\"Dedicated workspace\", \"Washer\", \"Heating\", \"...</td>\n",
       "      <td>$180.00</td>\n",
       "      <td>1</td>\n",
       "      <td>730</td>\n",
       "      <td>1</td>\n",
       "      <td>31</td>\n",
       "      <td>31</td>\n",
       "      <td>730</td>\n",
       "      <td>3.9</td>\n",
       "      <td>663.0</td>\n",
       "      <td>NaN</td>\n",
       "      <td>t</td>\n",
       "      <td>9</td>\n",
       "      <td>39</td>\n",
       "      <td>69</td>\n",
       "      <td>343</td>\n",
       "      <td>2024-06-22</td>\n",
       "      <td>27</td>\n",
       "      <td>2</td>\n",
       "      <td>0</td>\n",
       "      <td>2012-04-24</td>\n",
       "      <td>2024-04-20</td>\n",
       "      <td>4.65</td>\n",
       "      <td>4.67</td>\n",
       "      <td>4.22</td>\n",
       "      <td>4.59</td>\n",
       "      <td>4.74</td>\n",
       "      <td>4.70</td>\n",
       "      <td>4.48</td>\n",
       "      <td>NaN</td>\n",
       "      <td>f</td>\n",
       "      <td>1</td>\n",
       "      <td>1</td>\n",
       "      <td>0</td>\n",
       "      <td>0</td>\n",
       "      <td>0.18</td>\n",
       "    </tr>\n",
       "    <tr>\n",
       "      <th>3</th>\n",
       "      <td>309905</td>\n",
       "      <td>https://www.airbnb.com/rooms/309905</td>\n",
       "      <td>20240622024403</td>\n",
       "      <td>2024-06-22</td>\n",
       "      <td>city scrape</td>\n",
       "      <td>Navigli LOFT, with private garden</td>\n",
       "      <td>A sunny two-floor loft with private garden</td>\n",
       "      <td>NaN</td>\n",
       "      <td>https://a0.muscache.com/pictures/4088248/415c2...</td>\n",
       "      <td>1593809</td>\n",
       "      <td>https://www.airbnb.com/users/show/1593809</td>\n",
       "      <td>Elisa</td>\n",
       "      <td>2012-01-11</td>\n",
       "      <td>Milan, Italy</td>\n",
       "      <td>Hello, I'm Elisa, a Milan-based architect - fo...</td>\n",
       "      <td>within a few hours</td>\n",
       "      <td>100%</td>\n",
       "      <td>0%</td>\n",
       "      <td>f</td>\n",
       "      <td>https://a0.muscache.com/im/users/1593809/profi...</td>\n",
       "      <td>https://a0.muscache.com/im/users/1593809/profi...</td>\n",
       "      <td>Zona 5</td>\n",
       "      <td>1</td>\n",
       "      <td>2</td>\n",
       "      <td>['email', 'phone']</td>\n",
       "      <td>t</td>\n",
       "      <td>f</td>\n",
       "      <td>NaN</td>\n",
       "      <td>TICINESE</td>\n",
       "      <td>NaN</td>\n",
       "      <td>45.44383</td>\n",
       "      <td>9.17860</td>\n",
       "      <td>Entire rental unit</td>\n",
       "      <td>Entire home/apt</td>\n",
       "      <td>4</td>\n",
       "      <td>2.0</td>\n",
       "      <td>2 baths</td>\n",
       "      <td>2.0</td>\n",
       "      <td>3.0</td>\n",
       "      <td>[\"Children\\u2019s books and toys\", \"Kitchen\", ...</td>\n",
       "      <td>$200.00</td>\n",
       "      <td>20</td>\n",
       "      <td>1125</td>\n",
       "      <td>20</td>\n",
       "      <td>20</td>\n",
       "      <td>1125</td>\n",
       "      <td>1125</td>\n",
       "      <td>20.0</td>\n",
       "      <td>1125.0</td>\n",
       "      <td>NaN</td>\n",
       "      <td>t</td>\n",
       "      <td>28</td>\n",
       "      <td>58</td>\n",
       "      <td>88</td>\n",
       "      <td>363</td>\n",
       "      <td>2024-06-22</td>\n",
       "      <td>53</td>\n",
       "      <td>0</td>\n",
       "      <td>0</td>\n",
       "      <td>2012-03-09</td>\n",
       "      <td>2022-09-24</td>\n",
       "      <td>4.90</td>\n",
       "      <td>4.84</td>\n",
       "      <td>4.98</td>\n",
       "      <td>4.96</td>\n",
       "      <td>4.94</td>\n",
       "      <td>4.46</td>\n",
       "      <td>4.65</td>\n",
       "      <td>NaN</td>\n",
       "      <td>f</td>\n",
       "      <td>1</td>\n",
       "      <td>1</td>\n",
       "      <td>0</td>\n",
       "      <td>0</td>\n",
       "      <td>0.35</td>\n",
       "    </tr>\n",
       "    <tr>\n",
       "      <th>4</th>\n",
       "      <td>40470</td>\n",
       "      <td>https://www.airbnb.com/rooms/40470</td>\n",
       "      <td>20240622024403</td>\n",
       "      <td>2024-06-22</td>\n",
       "      <td>city scrape</td>\n",
       "      <td>Giacinto Cosy &amp; clean flat near MM1</td>\n",
       "      <td>NaN</td>\n",
       "      <td>NaN</td>\n",
       "      <td>https://a0.muscache.com/pictures/891684/01c17b...</td>\n",
       "      <td>174203</td>\n",
       "      <td>https://www.airbnb.com/users/show/174203</td>\n",
       "      <td>Giacinto</td>\n",
       "      <td>2010-07-20</td>\n",
       "      <td>Milan, Italy</td>\n",
       "      <td>Ciao sono Giacinto, amo i viaggi fatti con la ...</td>\n",
       "      <td>within an hour</td>\n",
       "      <td>100%</td>\n",
       "      <td>64%</td>\n",
       "      <td>f</td>\n",
       "      <td>https://a0.muscache.com/im/users/174203/profil...</td>\n",
       "      <td>https://a0.muscache.com/im/users/174203/profil...</td>\n",
       "      <td>Zona 2</td>\n",
       "      <td>2</td>\n",
       "      <td>2</td>\n",
       "      <td>['email', 'phone']</td>\n",
       "      <td>t</td>\n",
       "      <td>t</td>\n",
       "      <td>NaN</td>\n",
       "      <td>VIALE MONZA</td>\n",
       "      <td>NaN</td>\n",
       "      <td>45.52023</td>\n",
       "      <td>9.22747</td>\n",
       "      <td>Entire rental unit</td>\n",
       "      <td>Entire home/apt</td>\n",
       "      <td>4</td>\n",
       "      <td>1.0</td>\n",
       "      <td>1 bath</td>\n",
       "      <td>2.0</td>\n",
       "      <td>4.0</td>\n",
       "      <td>[\"Dedicated workspace\", \"Washer\", \"Exterior se...</td>\n",
       "      <td>$95.00</td>\n",
       "      <td>3</td>\n",
       "      <td>90</td>\n",
       "      <td>3</td>\n",
       "      <td>3</td>\n",
       "      <td>90</td>\n",
       "      <td>90</td>\n",
       "      <td>3.0</td>\n",
       "      <td>90.0</td>\n",
       "      <td>NaN</td>\n",
       "      <td>t</td>\n",
       "      <td>30</td>\n",
       "      <td>51</td>\n",
       "      <td>78</td>\n",
       "      <td>353</td>\n",
       "      <td>2024-06-22</td>\n",
       "      <td>42</td>\n",
       "      <td>2</td>\n",
       "      <td>0</td>\n",
       "      <td>2010-12-20</td>\n",
       "      <td>2024-02-29</td>\n",
       "      <td>4.68</td>\n",
       "      <td>4.73</td>\n",
       "      <td>4.85</td>\n",
       "      <td>4.98</td>\n",
       "      <td>4.88</td>\n",
       "      <td>4.43</td>\n",
       "      <td>4.53</td>\n",
       "      <td>NaN</td>\n",
       "      <td>f</td>\n",
       "      <td>2</td>\n",
       "      <td>2</td>\n",
       "      <td>0</td>\n",
       "      <td>0</td>\n",
       "      <td>0.26</td>\n",
       "    </tr>\n",
       "  </tbody>\n",
       "</table>\n",
       "</div>"
      ],
      "text/plain": [
       "       id                          listing_url       scrape_id last_scraped  \\\n",
       "0    6400    https://www.airbnb.com/rooms/6400  20240622024403   2024-06-22   \n",
       "1  304050  https://www.airbnb.com/rooms/304050  20240622024403   2024-06-23   \n",
       "2   23986   https://www.airbnb.com/rooms/23986  20240622024403   2024-06-22   \n",
       "3  309905  https://www.airbnb.com/rooms/309905  20240622024403   2024-06-22   \n",
       "4   40470   https://www.airbnb.com/rooms/40470  20240622024403   2024-06-22   \n",
       "\n",
       "        source                                 name  \\\n",
       "0  city scrape                     The Studio Milan   \n",
       "1  city scrape   Good starting point to discover Mi   \n",
       "2  city scrape      \" Characteristic Milanese flat\"   \n",
       "3  city scrape    Navigli LOFT, with private garden   \n",
       "4  city scrape  Giacinto Cosy & clean flat near MM1   \n",
       "\n",
       "                                         description  \\\n",
       "0  Enjoy your stay at The Studio, a light-filled ...   \n",
       "1                                                NaN   \n",
       "2  I look forward to welcoming you in my flat; it...   \n",
       "3         A sunny two-floor loft with private garden   \n",
       "4                                                NaN   \n",
       "\n",
       "                               neighborhood_overview  \\\n",
       "0  The neighborhood is quiet and very well connec...   \n",
       "1                                                NaN   \n",
       "2                                                NaN   \n",
       "3                                                NaN   \n",
       "4                                                NaN   \n",
       "\n",
       "                                         picture_url  host_id  \\\n",
       "0  https://a0.muscache.com/pictures/474737/5955ba...    13822   \n",
       "1  https://a0.muscache.com/pictures/4234186/e05e9...  1566887   \n",
       "2  https://a0.muscache.com/pictures/623d63f8-56cf...    95941   \n",
       "3  https://a0.muscache.com/pictures/4088248/415c2...  1593809   \n",
       "4  https://a0.muscache.com/pictures/891684/01c17b...   174203   \n",
       "\n",
       "                                    host_url  host_name  host_since  \\\n",
       "0    https://www.airbnb.com/users/show/13822  Francesca  2009-04-17   \n",
       "1  https://www.airbnb.com/users/show/1566887      Elena  2012-01-04   \n",
       "2    https://www.airbnb.com/users/show/95941     Jeremy  2010-03-19   \n",
       "3  https://www.airbnb.com/users/show/1593809      Elisa  2012-01-11   \n",
       "4   https://www.airbnb.com/users/show/174203   Giacinto  2010-07-20   \n",
       "\n",
       "  host_location                                         host_about  \\\n",
       "0  Milan, Italy  I'm am Francesca Sottilaro, i live in Milan an...   \n",
       "1  Milan, Italy  Hi! I'm a teacher of Italian to foreigners and...   \n",
       "2  Milan, Italy  Hallo , I'm Jeremy Hayne I live in Milan and I...   \n",
       "3  Milan, Italy  Hello, I'm Elisa, a Milan-based architect - fo...   \n",
       "4  Milan, Italy  Ciao sono Giacinto, amo i viaggi fatti con la ...   \n",
       "\n",
       "   host_response_time host_response_rate host_acceptance_rate  \\\n",
       "0        within a day               100%                   0%   \n",
       "1        within a day                60%                  65%   \n",
       "2        within a day               100%                  25%   \n",
       "3  within a few hours               100%                   0%   \n",
       "4      within an hour               100%                  64%   \n",
       "\n",
       "  host_is_superhost                                 host_thumbnail_url  \\\n",
       "0                 f  https://a0.muscache.com/im/users/13822/profile...   \n",
       "1                 f  https://a0.muscache.com/im/pictures/user/User-...   \n",
       "2                 f  https://a0.muscache.com/im/users/95941/profile...   \n",
       "3                 f  https://a0.muscache.com/im/users/1593809/profi...   \n",
       "4                 f  https://a0.muscache.com/im/users/174203/profil...   \n",
       "\n",
       "                                    host_picture_url host_neighbourhood  \\\n",
       "0  https://a0.muscache.com/im/users/13822/profile...             Zona 5   \n",
       "1  https://a0.muscache.com/im/pictures/user/User-...     Porta Vittoria   \n",
       "2  https://a0.muscache.com/im/users/95941/profile...            Navigli   \n",
       "3  https://a0.muscache.com/im/users/1593809/profi...             Zona 5   \n",
       "4  https://a0.muscache.com/im/users/174203/profil...             Zona 2   \n",
       "\n",
       "   host_listings_count  host_total_listings_count  host_verifications  \\\n",
       "0                    1                          2  ['email', 'phone']   \n",
       "1                    3                          3  ['email', 'phone']   \n",
       "2                    1                          1           ['email']   \n",
       "3                    1                          2  ['email', 'phone']   \n",
       "4                    2                          2  ['email', 'phone']   \n",
       "\n",
       "  host_has_profile_pic host_identity_verified           neighbourhood  \\\n",
       "0                    t                      f  Milan, Lombardy, Italy   \n",
       "1                    t                      t                     NaN   \n",
       "2                    t                      t                     NaN   \n",
       "3                    t                      f                     NaN   \n",
       "4                    t                      t                     NaN   \n",
       "\n",
       "  neighbourhood_cleansed  neighbourhood_group_cleansed  latitude  longitude  \\\n",
       "0                TIBALDI                           NaN  45.44119    9.17813   \n",
       "1             XXII MARZO                           NaN  45.45709    9.21531   \n",
       "2                NAVIGLI                           NaN  45.44806    9.17373   \n",
       "3               TICINESE                           NaN  45.44383    9.17860   \n",
       "4            VIALE MONZA                           NaN  45.52023    9.22747   \n",
       "\n",
       "                 property_type        room_type  accommodates  bathrooms  \\\n",
       "0  Private room in rental unit     Private room             1        3.5   \n",
       "1  Private room in rental unit     Private room             1        1.0   \n",
       "2           Entire rental unit  Entire home/apt             4        1.0   \n",
       "3           Entire rental unit  Entire home/apt             4        2.0   \n",
       "4           Entire rental unit  Entire home/apt             4        1.0   \n",
       "\n",
       "   bathrooms_text  bedrooms  beds  \\\n",
       "0       3.5 baths       3.0   1.0   \n",
       "1  1 private bath       1.0   1.0   \n",
       "2          1 bath       1.0   1.0   \n",
       "3         2 baths       2.0   3.0   \n",
       "4          1 bath       2.0   4.0   \n",
       "\n",
       "                                           amenities    price  minimum_nights  \\\n",
       "0  [\"Washer\", \"Heating\", \"TV\", \"Hangers\", \"Wifi\",...  $100.00               4   \n",
       "1  [\"Washer\", \"Children\\u2019s books and toys\", \"...   $60.00               2   \n",
       "2  [\"Dedicated workspace\", \"Washer\", \"Heating\", \"...  $180.00               1   \n",
       "3  [\"Children\\u2019s books and toys\", \"Kitchen\", ...  $200.00              20   \n",
       "4  [\"Dedicated workspace\", \"Washer\", \"Exterior se...   $95.00               3   \n",
       "\n",
       "   maximum_nights  minimum_minimum_nights  maximum_minimum_nights  \\\n",
       "0               5                       4                       4   \n",
       "1              15                       2                       2   \n",
       "2             730                       1                      31   \n",
       "3            1125                      20                      20   \n",
       "4              90                       3                       3   \n",
       "\n",
       "   minimum_maximum_nights  maximum_maximum_nights  minimum_nights_avg_ntm  \\\n",
       "0                       5                       5                     4.0   \n",
       "1                      15                      15                     2.0   \n",
       "2                      31                     730                     3.9   \n",
       "3                    1125                    1125                    20.0   \n",
       "4                      90                      90                     3.0   \n",
       "\n",
       "   maximum_nights_avg_ntm  calendar_updated has_availability  availability_30  \\\n",
       "0                     5.0               NaN                t               23   \n",
       "1                    15.0               NaN                t                5   \n",
       "2                   663.0               NaN                t                9   \n",
       "3                  1125.0               NaN                t               28   \n",
       "4                    90.0               NaN                t               30   \n",
       "\n",
       "   availability_60  availability_90  availability_365 calendar_last_scraped  \\\n",
       "0               53               83               358            2024-06-22   \n",
       "1                7                9               221            2024-06-23   \n",
       "2               39               69               343            2024-06-22   \n",
       "3               58               88               363            2024-06-22   \n",
       "4               51               78               353            2024-06-22   \n",
       "\n",
       "   number_of_reviews  number_of_reviews_ltm  number_of_reviews_l30d  \\\n",
       "0                 10                      0                       0   \n",
       "1                275                     27                       4   \n",
       "2                 27                      2                       0   \n",
       "3                 53                      0                       0   \n",
       "4                 42                      2                       0   \n",
       "\n",
       "  first_review last_review  review_scores_rating  review_scores_accuracy  \\\n",
       "0   2010-04-19  2019-04-13                  4.89                    5.00   \n",
       "1   2012-09-08  2024-06-10                  4.91                    4.93   \n",
       "2   2012-04-24  2024-04-20                  4.65                    4.67   \n",
       "3   2012-03-09  2022-09-24                  4.90                    4.84   \n",
       "4   2010-12-20  2024-02-29                  4.68                    4.73   \n",
       "\n",
       "   review_scores_cleanliness  review_scores_checkin  \\\n",
       "0                       5.00                   5.00   \n",
       "1                       4.91                   4.94   \n",
       "2                       4.22                   4.59   \n",
       "3                       4.98                   4.96   \n",
       "4                       4.85                   4.98   \n",
       "\n",
       "   review_scores_communication  review_scores_location  review_scores_value  \\\n",
       "0                         5.00                    4.56                 4.67   \n",
       "1                         4.97                    4.80                 4.90   \n",
       "2                         4.74                    4.70                 4.48   \n",
       "3                         4.94                    4.46                 4.65   \n",
       "4                         4.88                    4.43                 4.53   \n",
       "\n",
       "  license instant_bookable  calculated_host_listings_count  \\\n",
       "0     NaN                f                               1   \n",
       "1     NaN                f                               2   \n",
       "2     NaN                f                               1   \n",
       "3     NaN                f                               1   \n",
       "4     NaN                f                               2   \n",
       "\n",
       "   calculated_host_listings_count_entire_homes  \\\n",
       "0                                            0   \n",
       "1                                            1   \n",
       "2                                            1   \n",
       "3                                            1   \n",
       "4                                            2   \n",
       "\n",
       "   calculated_host_listings_count_private_rooms  \\\n",
       "0                                             1   \n",
       "1                                             1   \n",
       "2                                             0   \n",
       "3                                             0   \n",
       "4                                             0   \n",
       "\n",
       "   calculated_host_listings_count_shared_rooms  reviews_per_month  \n",
       "0                                            0               0.06  \n",
       "1                                            0               1.92  \n",
       "2                                            0               0.18  \n",
       "3                                            0               0.35  \n",
       "4                                            0               0.26  "
      ]
     },
     "execution_count": 6,
     "metadata": {},
     "output_type": "execute_result"
    }
   ],
   "source": [
    "listings_df.head()"
   ]
  },
  {
   "cell_type": "code",
   "execution_count": 7,
   "id": "0c63becb",
   "metadata": {},
   "outputs": [],
   "source": [
    "# Profiling general\n",
    "# profile = ProfileReport(listings_df, title=\"Profiling Listing Milan\")"
   ]
  },
  {
   "cell_type": "code",
   "execution_count": 8,
   "id": "db6f46c9",
   "metadata": {},
   "outputs": [],
   "source": [
    "#Generate Report\n",
    "# profile.to_file('report2.html')"
   ]
  },
  {
   "cell_type": "markdown",
   "id": "d7f0aee6",
   "metadata": {},
   "source": [
    "## 2. Cleaning and Quality"
   ]
  },
  {
   "cell_type": "code",
   "execution_count": 9,
   "id": "eebfc27b",
   "metadata": {},
   "outputs": [],
   "source": [
    "#Cambiar numericos por sting para tomarlo cómo categorico\n",
    "listings_df['id']=listings_df['id'].apply(str)\n",
    "listings_df['host_id']=listings_df['host_id'].apply(str)"
   ]
  },
  {
   "cell_type": "code",
   "execution_count": 10,
   "id": "51aa3e3c",
   "metadata": {},
   "outputs": [],
   "source": [
    "#Funcion para separar comas y obtener cierto valor del listado.\n",
    "def separa_por_coma(x,y):\n",
    "    if(isinstance(x, str)):\n",
    "        x=x.split(\", \")\n",
    "        if(len(x)<y):\n",
    "            return ''\n",
    "        return x[-y]\n",
    "    else: return ''"
   ]
  },
  {
   "cell_type": "code",
   "execution_count": 11,
   "id": "2834c7b7",
   "metadata": {},
   "outputs": [],
   "source": [
    "#Creacion de columnas nuevas de country y city\n",
    "listings_df['host_location_country']=listings_df['host_location'].apply(lambda x: separa_por_coma(x, 1))\n",
    "listings_df['host_location_city']=listings_df['host_location'].apply(lambda x: separa_por_coma(x, 2))"
   ]
  },
  {
   "cell_type": "code",
   "execution_count": 12,
   "id": "b0f8e52b",
   "metadata": {},
   "outputs": [],
   "source": [
    "def dias_entre_fechas(x):\n",
    "    x = datetime.strptime(x, '%Y-%m-%d').date()\n",
    "    return (date.today()-x).days"
   ]
  },
  {
   "cell_type": "code",
   "execution_count": 13,
   "id": "c63dc6fe",
   "metadata": {},
   "outputs": [],
   "source": [
    "#Creación de columna nueva de dias de antiguedad del host\n",
    "listings_df['host_since_days']=listings_df['host_since'].apply(dias_entre_fechas)\n",
    "listings_df['host_since_months']=listings_df['host_since_days']/30"
   ]
  },
  {
   "cell_type": "code",
   "execution_count": 14,
   "id": "6888947c",
   "metadata": {},
   "outputs": [
    {
     "data": {
      "text/plain": [
       "array([1], dtype=int64)"
      ]
     },
     "execution_count": 14,
     "metadata": {},
     "output_type": "execute_result"
    }
   ],
   "source": [
    "#verificar que la info de los host cuadre toda, que los host no tengan valores diferentes entre listings\n",
    "df_by_host=listings_df[['id','host_id','host_name','host_listings_count','host_total_listings_count']].groupby([\"host_id\"],as_index=False).agg({\n",
    "    'host_name': ['nunique'],\n",
    "    'host_listings_count' :['nunique'],\n",
    "    'host_total_listings_count' :['nunique']\n",
    "})\n",
    "df_by_host.columns = list(map(''.join, df_by_host.columns.values)) #cambia el multiindex por columnas agrupadas\n",
    "df_by_host.host_listings_countnunique.unique()"
   ]
  },
  {
   "cell_type": "code",
   "execution_count": 15,
   "id": "a64d2377",
   "metadata": {},
   "outputs": [
    {
     "data": {
      "text/plain": [
       "Private room    10\n",
       "Name: room_type, dtype: int64"
      ]
     },
     "execution_count": 15,
     "metadata": {},
     "output_type": "execute_result"
    }
   ],
   "source": [
    "#Correguir los errores de 0 bath\n",
    "listings_df[listings_df['bathrooms_text'].isin(['0 shared baths'])]['room_type'].value_counts()"
   ]
  },
  {
   "cell_type": "code",
   "execution_count": 16,
   "id": "a829441f",
   "metadata": {},
   "outputs": [],
   "source": [
    "#Correguir los errores de 0 bath\n",
    "listings_df.loc[(listings_df['bathrooms_text']=='0 baths')&(listings_df['room_type']=='Entire home/apt'),'bathrooms_text']='1 bath'\n",
    "listings_df.loc[(listings_df['bathrooms_text']=='0 baths')&(listings_df['room_type']=='Private room'),'bathrooms_text']='shared bath'"
   ]
  },
  {
   "cell_type": "code",
   "execution_count": 17,
   "id": "189e51e4",
   "metadata": {},
   "outputs": [],
   "source": [
    "#new feature bathrooms summarized\n",
    "def simple_baths(x):\n",
    "    if(isinstance(x, str)):\n",
    "        if(x=='shared bath' or 'alf-bath' in x):\n",
    "            return 'shared bath'\n",
    "        else:\n",
    "            x=float(x.split(' ')[0])\n",
    "        if(1<=x<2) : return'1'\n",
    "        elif(2<x<=3): return '2-3'\n",
    "        else: return '4+'\n",
    "    return x\n",
    "\n",
    "listings_df['bathrooms_group']=listings_df['bathrooms_text'].apply(simple_baths)"
   ]
  },
  {
   "cell_type": "code",
   "execution_count": 18,
   "id": "ffd3bcc2",
   "metadata": {},
   "outputs": [
    {
     "data": {
      "text/plain": [
       "minimum_nights\n",
       "1                 0.474164\n",
       "2                 0.783332\n",
       "3                 0.879528\n",
       "4                 0.908404\n",
       "5                 0.928613\n",
       "6                 0.934650\n",
       "7                 0.946316\n",
       "8                 0.946767\n",
       "9                 0.946932\n",
       "10                0.950341\n",
       "12                0.950587\n",
       "13                0.950670\n",
       "14                0.952395\n",
       "15                0.956543\n",
       "16                0.956625\n",
       "dtype: float64"
      ]
     },
     "execution_count": 18,
     "metadata": {},
     "output_type": "execute_result"
    }
   ],
   "source": [
    "listings_df[['minimum_nights']].sort_values(by=['minimum_nights']).value_counts(normalize=True, sort=False).cumsum().head(15)"
   ]
  },
  {
   "cell_type": "code",
   "execution_count": 19,
   "id": "29576b21",
   "metadata": {},
   "outputs": [],
   "source": [
    "listings_df.drop(list(listings_df[listings_df['minimum_nights']>15].index),inplace=True)"
   ]
  },
  {
   "cell_type": "code",
   "execution_count": 20,
   "id": "a7ce14e6-d333-4740-9fb0-ffdff904c06c",
   "metadata": {},
   "outputs": [],
   "source": [
    "#Transform the price attribute from object to float\n",
    "listings_df[\"price\"] = listings_df[\"price\"].str.replace(\"[$,]\", \"\", regex=True).astype(float)\n",
    "\n",
    "#Eliminar registros sin precio (1231)\n",
    "listings_df.drop(list(listings_df[listings_df['price'].isna()].index),inplace=True)"
   ]
  },
  {
   "cell_type": "code",
   "execution_count": 21,
   "id": "711050bc",
   "metadata": {},
   "outputs": [
    {
     "data": {
      "text/html": [
       "<div>\n",
       "<style scoped>\n",
       "    .dataframe tbody tr th:only-of-type {\n",
       "        vertical-align: middle;\n",
       "    }\n",
       "\n",
       "    .dataframe tbody tr th {\n",
       "        vertical-align: top;\n",
       "    }\n",
       "\n",
       "    .dataframe thead th {\n",
       "        text-align: right;\n",
       "    }\n",
       "</style>\n",
       "<table border=\"1\" class=\"dataframe\">\n",
       "  <thead>\n",
       "    <tr style=\"text-align: right;\">\n",
       "      <th></th>\n",
       "      <th>listing_url</th>\n",
       "      <th>price</th>\n",
       "    </tr>\n",
       "  </thead>\n",
       "  <tbody>\n",
       "    <tr>\n",
       "      <th>16046</th>\n",
       "      <td>https://www.airbnb.com/rooms/950491133042467150</td>\n",
       "      <td>9857.0</td>\n",
       "    </tr>\n",
       "    <tr>\n",
       "      <th>3686</th>\n",
       "      <td>https://www.airbnb.com/rooms/24054647</td>\n",
       "      <td>9999.0</td>\n",
       "    </tr>\n",
       "    <tr>\n",
       "      <th>3841</th>\n",
       "      <td>https://www.airbnb.com/rooms/24420532</td>\n",
       "      <td>9999.0</td>\n",
       "    </tr>\n",
       "    <tr>\n",
       "      <th>5513</th>\n",
       "      <td>https://www.airbnb.com/rooms/36340639</td>\n",
       "      <td>9999.0</td>\n",
       "    </tr>\n",
       "    <tr>\n",
       "      <th>6073</th>\n",
       "      <td>https://www.airbnb.com/rooms/40609622</td>\n",
       "      <td>9999.0</td>\n",
       "    </tr>\n",
       "    <tr>\n",
       "      <th>10174</th>\n",
       "      <td>https://www.airbnb.com/rooms/642477202207315778</td>\n",
       "      <td>9999.0</td>\n",
       "    </tr>\n",
       "    <tr>\n",
       "      <th>13272</th>\n",
       "      <td>https://www.airbnb.com/rooms/847556660667601197</td>\n",
       "      <td>9999.0</td>\n",
       "    </tr>\n",
       "    <tr>\n",
       "      <th>4438</th>\n",
       "      <td>https://www.airbnb.com/rooms/29981740</td>\n",
       "      <td>10000.0</td>\n",
       "    </tr>\n",
       "    <tr>\n",
       "      <th>4440</th>\n",
       "      <td>https://www.airbnb.com/rooms/29982168</td>\n",
       "      <td>10000.0</td>\n",
       "    </tr>\n",
       "    <tr>\n",
       "      <th>12298</th>\n",
       "      <td>https://www.airbnb.com/rooms/807184484164759282</td>\n",
       "      <td>10000.0</td>\n",
       "    </tr>\n",
       "    <tr>\n",
       "      <th>11156</th>\n",
       "      <td>https://www.airbnb.com/rooms/726704791282082694</td>\n",
       "      <td>11971.0</td>\n",
       "    </tr>\n",
       "    <tr>\n",
       "      <th>4135</th>\n",
       "      <td>https://www.airbnb.com/rooms/27425907</td>\n",
       "      <td>12000.0</td>\n",
       "    </tr>\n",
       "    <tr>\n",
       "      <th>12509</th>\n",
       "      <td>https://www.airbnb.com/rooms/817264445250966450</td>\n",
       "      <td>88888.0</td>\n",
       "    </tr>\n",
       "    <tr>\n",
       "      <th>6055</th>\n",
       "      <td>https://www.airbnb.com/rooms/40577782</td>\n",
       "      <td>90000.0</td>\n",
       "    </tr>\n",
       "  </tbody>\n",
       "</table>\n",
       "</div>"
      ],
      "text/plain": [
       "                                           listing_url    price\n",
       "16046  https://www.airbnb.com/rooms/950491133042467150   9857.0\n",
       "3686             https://www.airbnb.com/rooms/24054647   9999.0\n",
       "3841             https://www.airbnb.com/rooms/24420532   9999.0\n",
       "5513             https://www.airbnb.com/rooms/36340639   9999.0\n",
       "6073             https://www.airbnb.com/rooms/40609622   9999.0\n",
       "10174  https://www.airbnb.com/rooms/642477202207315778   9999.0\n",
       "13272  https://www.airbnb.com/rooms/847556660667601197   9999.0\n",
       "4438             https://www.airbnb.com/rooms/29981740  10000.0\n",
       "4440             https://www.airbnb.com/rooms/29982168  10000.0\n",
       "12298  https://www.airbnb.com/rooms/807184484164759282  10000.0\n",
       "11156  https://www.airbnb.com/rooms/726704791282082694  11971.0\n",
       "4135             https://www.airbnb.com/rooms/27425907  12000.0\n",
       "12509  https://www.airbnb.com/rooms/817264445250966450  88888.0\n",
       "6055             https://www.airbnb.com/rooms/40577782  90000.0"
      ]
     },
     "execution_count": 21,
     "metadata": {},
     "output_type": "execute_result"
    }
   ],
   "source": [
    "#Revisar outliers superiores\n",
    "outlier_threshold = listings_df['price'].mean() + listings_df['price'].std() * 10 #9422\n",
    "#Revisando las urls de los listings por encima de outlier se opta por eliminar los superiores de 9999\n",
    "listings_df[listings_df['price'] >= outlier_threshold][['listing_url','price']].sort_values(by=['price'], ascending=True)"
   ]
  },
  {
   "cell_type": "code",
   "execution_count": 22,
   "id": "5d436f8f",
   "metadata": {},
   "outputs": [],
   "source": [
    "#Eliminar outliers superiores (16)\n",
    "listings_df.drop(list(listings_df[listings_df['price'] >= 9999][['listing_url','price']].index),inplace=True)"
   ]
  },
  {
   "cell_type": "code",
   "execution_count": 23,
   "id": "8dccafeb",
   "metadata": {},
   "outputs": [
    {
     "data": {
      "text/plain": [
       "(22148, 80)"
      ]
     },
     "execution_count": 23,
     "metadata": {},
     "output_type": "execute_result"
    }
   ],
   "source": [
    "listings_df.shape"
   ]
  },
  {
   "cell_type": "markdown",
   "id": "8a48a9a6-7266-472f-be40-c820e199a029",
   "metadata": {},
   "source": [
    "## 2. Univariate analysis"
   ]
  },
  {
   "cell_type": "markdown",
   "id": "5978627d",
   "metadata": {},
   "source": [
    "#### 2.1 Atributos principales"
   ]
  },
  {
   "cell_type": "markdown",
   "id": "12f39908",
   "metadata": {},
   "source": [
    "##### Price"
   ]
  },
  {
   "cell_type": "code",
   "execution_count": 24,
   "id": "d65c0060",
   "metadata": {},
   "outputs": [
    {
     "data": {
      "text/plain": [
       "count    22148.000000\n",
       "mean       167.952772\n",
       "std        342.616165\n",
       "min         12.000000\n",
       "5%          55.000000\n",
       "25%         82.000000\n",
       "50%        110.000000\n",
       "75%        165.000000\n",
       "95%        400.000000\n",
       "max       9857.000000\n",
       "Name: price, dtype: float64"
      ]
     },
     "execution_count": 24,
     "metadata": {},
     "output_type": "execute_result"
    }
   ],
   "source": [
    "listings_df['price'].describe(percentiles=[0.05, 0.25, 0.5, 0.75, 0.95])"
   ]
  },
  {
   "cell_type": "code",
   "execution_count": 25,
   "id": "90394140",
   "metadata": {},
   "outputs": [
    {
     "data": {
      "image/png": "[encoded data removed]",
      "text/plain": [
       "<Figure size 1440x360 with 1 Axes>"
      ]
     },
     "metadata": {
      "needs_background": "light"
     },
     "output_type": "display_data"
    }
   ],
   "source": [
    "fig = plt.figure(figsize = (20, 5))\n",
    "listings_df['price'].hist(bins=50)\n",
    "plt.show()"
   ]
  },
  {
   "cell_type": "code",
   "execution_count": 26,
   "id": "01b77e1e",
   "metadata": {},
   "outputs": [
    {
     "name": "stdout",
     "output_type": "stream",
     "text": [
      "Skewness: 17.19080980494691\n",
      "Kurtosis: 378.7274186797415\n"
     ]
    }
   ],
   "source": [
    "# Computing skewness and kurtosis\n",
    "print(\"Skewness:\", listings_df['price'].skew())\n",
    "print(\"Kurtosis:\", listings_df['price'].kurtosis())"
   ]
  },
  {
   "cell_type": "code",
   "execution_count": 27,
   "id": "ce4dd2d6-eda2-4c26-89d2-bba762a5c7be",
   "metadata": {},
   "outputs": [
    {
     "data": {
      "image/png": "[encoded data removed]",
      "text/plain": [
       "<Figure size 1440x360 with 1 Axes>"
      ]
     },
     "metadata": {
      "needs_background": "light"
     },
     "output_type": "display_data"
    }
   ],
   "source": [
    "# Plotting a boxplot for price\n",
    "plt.figure(figsize=(20, 5))\n",
    "plt.boxplot(listings_df[\"price\"], showmeans=True, vert=False)\n",
    "plt.title(\"price distribution\")\n",
    "plt.show()"
   ]
  },
  {
   "cell_type": "markdown",
   "id": "85709110",
   "metadata": {},
   "source": [
    "##### Review Score"
   ]
  },
  {
   "cell_type": "code",
   "execution_count": 28,
   "id": "9cac5f82",
   "metadata": {},
   "outputs": [
    {
     "data": {
      "text/plain": [
       "count    18674.000000\n",
       "mean         4.708997\n",
       "std          0.423065\n",
       "min          0.000000\n",
       "5%           4.000000\n",
       "25%          4.620000\n",
       "50%          4.830000\n",
       "75%          5.000000\n",
       "95%          5.000000\n",
       "max          5.000000\n",
       "Name: review_scores_rating, dtype: float64"
      ]
     },
     "execution_count": 28,
     "metadata": {},
     "output_type": "execute_result"
    }
   ],
   "source": [
    "listings_df['review_scores_rating'].describe(percentiles=[0.05, 0.25, 0.5, 0.75, 0.95])"
   ]
  },
  {
   "cell_type": "code",
   "execution_count": 29,
   "id": "714aad13",
   "metadata": {},
   "outputs": [
    {
     "data": {
      "image/png": "[encoded data removed]",
      "text/plain": [
       "<Figure size 1440x360 with 1 Axes>"
      ]
     },
     "metadata": {
      "needs_background": "light"
     },
     "output_type": "display_data"
    }
   ],
   "source": [
    "fig = plt.figure(figsize = (20, 5))\n",
    "listings_df['review_scores_rating'].hist(bins=50)\n",
    "plt.show()"
   ]
  },
  {
   "cell_type": "code",
   "execution_count": 30,
   "id": "4c36d256",
   "metadata": {},
   "outputs": [
    {
     "name": "stdout",
     "output_type": "stream",
     "text": [
      "Skewness: -3.6859390194877766\n",
      "Kurtosis: 21.69770432896838\n"
     ]
    }
   ],
   "source": [
    "# Computing skewness and kurtosis\n",
    "print(\"Skewness:\", listings_df['review_scores_rating'].skew())\n",
    "print(\"Kurtosis:\", listings_df['review_scores_rating'].kurtosis())"
   ]
  },
  {
   "cell_type": "code",
   "execution_count": 31,
   "id": "490c7d34",
   "metadata": {},
   "outputs": [
    {
     "name": "stderr",
     "output_type": "stream",
     "text": [
      "d:\\ProgramData\\Anaconda3\\lib\\site-packages\\seaborn\\_decorators.py:36: FutureWarning: Pass the following variable as a keyword arg: x. From version 0.12, the only valid positional argument will be `data`, and passing other arguments without an explicit keyword will result in an error or misinterpretation.\n",
      "  warnings.warn(\n"
     ]
    },
    {
     "data": {
      "text/plain": [
       "<AxesSubplot:xlabel='review_scores_rating'>"
      ]
     },
     "execution_count": 31,
     "metadata": {},
     "output_type": "execute_result"
    },
    {
     "data": {
      "image/png": "[encoded data removed]",
      "text/plain": [
       "<Figure size 432x288 with 1 Axes>"
      ]
     },
     "metadata": {
      "needs_background": "light"
     },
     "output_type": "display_data"
    }
   ],
   "source": [
    "sns.boxplot(listings_df['review_scores_rating'])"
   ]
  },
  {
   "cell_type": "markdown",
   "id": "8406151c",
   "metadata": {},
   "source": [
    "##### Neighbourhood"
   ]
  },
  {
   "cell_type": "code",
   "execution_count": 32,
   "id": "552f895e",
   "metadata": {},
   "outputs": [
    {
     "data": {
      "text/plain": [
       "BUENOS AIRES - VENEZIA    0.079691\n",
       "DUOMO                     0.060141\n",
       "SARPI                     0.042938\n",
       "BRERA                     0.042442\n",
       "LORETO                    0.040410\n",
       "NAVIGLI                   0.039462\n",
       "TICINESE                  0.038559\n",
       "CENTRALE                  0.038333\n",
       "ISOLA                     0.032599\n",
       "XXII MARZO                0.027587\n",
       "Name: neighbourhood_cleansed, dtype: float64"
      ]
     },
     "execution_count": 32,
     "metadata": {},
     "output_type": "execute_result"
    }
   ],
   "source": [
    "listings_df['neighbourhood_cleansed'].value_counts(normalize=True).head(10)"
   ]
  },
  {
   "cell_type": "code",
   "execution_count": 33,
   "id": "27359117",
   "metadata": {},
   "outputs": [
    {
     "data": {
      "image/png": "[encoded data removed]",
      "text/plain": [
       "<Figure size 1440x360 with 1 Axes>"
      ]
     },
     "metadata": {
      "needs_background": "light"
     },
     "output_type": "display_data"
    }
   ],
   "source": [
    "x=listings_df['neighbourhood_cleansed'].value_counts().head(10)\n",
    "fig, ax = plt.subplots(figsize = (20, 5))\n",
    "bars = ax.bar(x.index, x.values, color ='maroon', width = 0.6)\n",
    "ax.bar_label(bars)\n",
    "plt.show()"
   ]
  },
  {
   "cell_type": "markdown",
   "id": "bac5eda6",
   "metadata": {},
   "source": [
    "##### Accommodates"
   ]
  },
  {
   "cell_type": "code",
   "execution_count": 34,
   "id": "0854bf5f",
   "metadata": {},
   "outputs": [
    {
     "data": {
      "text/plain": [
       "count    22148.000000\n",
       "mean         3.233836\n",
       "std          1.492988\n",
       "min          1.000000\n",
       "5%           2.000000\n",
       "25%          2.000000\n",
       "50%          3.000000\n",
       "75%          4.000000\n",
       "95%          6.000000\n",
       "max         16.000000\n",
       "Name: accommodates, dtype: float64"
      ]
     },
     "execution_count": 34,
     "metadata": {},
     "output_type": "execute_result"
    }
   ],
   "source": [
    "listings_df['accommodates'].describe(percentiles=[0.05, 0.25, 0.5, 0.75, 0.95])"
   ]
  },
  {
   "cell_type": "code",
   "execution_count": 35,
   "id": "13aa5fde",
   "metadata": {},
   "outputs": [
    {
     "data": {
      "text/plain": [
       "2     0.380847\n",
       "4     0.329465\n",
       "3     0.121681\n",
       "6     0.056258\n",
       "1     0.045151\n",
       "5     0.045106\n",
       "8     0.009120\n",
       "7     0.006818\n",
       "10    0.002258\n",
       "9     0.001490\n",
       "16    0.000497\n",
       "12    0.000452\n",
       "11    0.000316\n",
       "14    0.000271\n",
       "13    0.000181\n",
       "15    0.000090\n",
       "Name: accommodates, dtype: float64"
      ]
     },
     "execution_count": 35,
     "metadata": {},
     "output_type": "execute_result"
    }
   ],
   "source": [
    "listings_df['accommodates'].value_counts(normalize=True)"
   ]
  },
  {
   "cell_type": "code",
   "execution_count": 36,
   "id": "ded205d8",
   "metadata": {},
   "outputs": [
    {
     "data": {
      "image/png": "[encoded data removed]",
      "text/plain": [
       "<Figure size 1440x360 with 1 Axes>"
      ]
     },
     "metadata": {
      "needs_background": "light"
     },
     "output_type": "display_data"
    }
   ],
   "source": [
    "x=listings_df['accommodates'].value_counts()\n",
    "fig, ax = plt.subplots(figsize = (20, 5))\n",
    "bars = ax.bar(x.index, x.values, color ='maroon', width = 0.6)\n",
    "ax.bar_label(bars)\n",
    "plt.show()"
   ]
  },
  {
   "cell_type": "markdown",
   "id": "0a5edbc3",
   "metadata": {},
   "source": [
    "##### Bathrooms_text"
   ]
  },
  {
   "cell_type": "code",
   "execution_count": 37,
   "id": "926e569b",
   "metadata": {},
   "outputs": [
    {
     "data": {
      "image/png": "[encoded data removed]",
      "text/plain": [
       "<Figure size 1440x360 with 1 Axes>"
      ]
     },
     "metadata": {
      "needs_background": "light"
     },
     "output_type": "display_data"
    }
   ],
   "source": [
    "fig = plt.figure(figsize = (20, 5))\n",
    "listings_df['bathrooms'].hist(bins=50)\n",
    "plt.show()"
   ]
  },
  {
   "cell_type": "code",
   "execution_count": 38,
   "id": "0b090dce",
   "metadata": {},
   "outputs": [
    {
     "data": {
      "image/png": "[encoded data removed]",
      "text/plain": [
       "<Figure size 1440x360 with 1 Axes>"
      ]
     },
     "metadata": {
      "needs_background": "light"
     },
     "output_type": "display_data"
    }
   ],
   "source": [
    "x=listings_df['bathrooms_group'].value_counts()\n",
    "fig, ax = plt.subplots(figsize = (20, 5))\n",
    "bars = ax.bar(x.index, x.values, color ='maroon', width = 0.6)\n",
    "ax.bar_label(bars)\n",
    "plt.show()"
   ]
  },
  {
   "cell_type": "code",
   "execution_count": 39,
   "id": "d6ee68bc",
   "metadata": {},
   "outputs": [
    {
     "data": {
      "text/plain": [
       "1              0.874966\n",
       "4+             0.107688\n",
       "2-3            0.012919\n",
       "shared bath    0.004427\n",
       "Name: bathrooms_group, dtype: float64"
      ]
     },
     "execution_count": 39,
     "metadata": {},
     "output_type": "execute_result"
    }
   ],
   "source": [
    "listings_df['bathrooms_group'].value_counts(normalize=True)"
   ]
  },
  {
   "cell_type": "markdown",
   "id": "942532ee",
   "metadata": {},
   "source": [
    "#### 2.1 Otros atributos"
   ]
  },
  {
   "cell_type": "code",
   "execution_count": 40,
   "id": "350e7d03",
   "metadata": {},
   "outputs": [
    {
     "data": {
      "text/html": [
       "<div>\n",
       "<style scoped>\n",
       "    .dataframe tbody tr th:only-of-type {\n",
       "        vertical-align: middle;\n",
       "    }\n",
       "\n",
       "    .dataframe tbody tr th {\n",
       "        vertical-align: top;\n",
       "    }\n",
       "\n",
       "    .dataframe thead th {\n",
       "        text-align: right;\n",
       "    }\n",
       "</style>\n",
       "<table border=\"1\" class=\"dataframe\">\n",
       "  <thead>\n",
       "    <tr style=\"text-align: right;\">\n",
       "      <th></th>\n",
       "      <th>index</th>\n",
       "      <th>host_id</th>\n",
       "      <th>idcount</th>\n",
       "      <th>host_namemax</th>\n",
       "      <th>host_listings_countmax</th>\n",
       "      <th>host_total_listings_countmax</th>\n",
       "    </tr>\n",
       "  </thead>\n",
       "  <tbody>\n",
       "    <tr>\n",
       "      <th>0</th>\n",
       "      <td>4655</td>\n",
       "      <td>27693585</td>\n",
       "      <td>495</td>\n",
       "      <td>Italianway</td>\n",
       "      <td>511</td>\n",
       "      <td>547</td>\n",
       "    </tr>\n",
       "    <tr>\n",
       "      <th>1</th>\n",
       "      <td>12163</td>\n",
       "      <td>9025189</td>\n",
       "      <td>312</td>\n",
       "      <td>Easylife House</td>\n",
       "      <td>367</td>\n",
       "      <td>404</td>\n",
       "    </tr>\n",
       "    <tr>\n",
       "      <th>2</th>\n",
       "      <td>1998</td>\n",
       "      <td>16366171</td>\n",
       "      <td>236</td>\n",
       "      <td>Cleanbnb House</td>\n",
       "      <td>301</td>\n",
       "      <td>477</td>\n",
       "    </tr>\n",
       "    <tr>\n",
       "      <th>3</th>\n",
       "      <td>4138</td>\n",
       "      <td>2504885</td>\n",
       "      <td>147</td>\n",
       "      <td>Simone</td>\n",
       "      <td>154</td>\n",
       "      <td>155</td>\n",
       "    </tr>\n",
       "    <tr>\n",
       "      <th>4</th>\n",
       "      <td>3642</td>\n",
       "      <td>230140176</td>\n",
       "      <td>130</td>\n",
       "      <td>Youhosty</td>\n",
       "      <td>145</td>\n",
       "      <td>239</td>\n",
       "    </tr>\n",
       "    <tr>\n",
       "      <th>5</th>\n",
       "      <td>7412</td>\n",
       "      <td>4417813</td>\n",
       "      <td>129</td>\n",
       "      <td>The Best Rent</td>\n",
       "      <td>223</td>\n",
       "      <td>345</td>\n",
       "    </tr>\n",
       "    <tr>\n",
       "      <th>6</th>\n",
       "      <td>1584</td>\n",
       "      <td>14743308</td>\n",
       "      <td>102</td>\n",
       "      <td>Casa Da Suite</td>\n",
       "      <td>125</td>\n",
       "      <td>135</td>\n",
       "    </tr>\n",
       "    <tr>\n",
       "      <th>7</th>\n",
       "      <td>2602</td>\n",
       "      <td>18593362</td>\n",
       "      <td>99</td>\n",
       "      <td>Hintown</td>\n",
       "      <td>185</td>\n",
       "      <td>481</td>\n",
       "    </tr>\n",
       "    <tr>\n",
       "      <th>8</th>\n",
       "      <td>9626</td>\n",
       "      <td>54050937</td>\n",
       "      <td>99</td>\n",
       "      <td>I-Host</td>\n",
       "      <td>125</td>\n",
       "      <td>146</td>\n",
       "    </tr>\n",
       "    <tr>\n",
       "      <th>9</th>\n",
       "      <td>1848</td>\n",
       "      <td>158317747</td>\n",
       "      <td>97</td>\n",
       "      <td>Giulio</td>\n",
       "      <td>109</td>\n",
       "      <td>115</td>\n",
       "    </tr>\n",
       "  </tbody>\n",
       "</table>\n",
       "</div>"
      ],
      "text/plain": [
       "   index    host_id  idcount    host_namemax  host_listings_countmax  \\\n",
       "0   4655   27693585      495      Italianway                     511   \n",
       "1  12163    9025189      312  Easylife House                     367   \n",
       "2   1998   16366171      236  Cleanbnb House                     301   \n",
       "3   4138    2504885      147          Simone                     154   \n",
       "4   3642  230140176      130        Youhosty                     145   \n",
       "5   7412    4417813      129   The Best Rent                     223   \n",
       "6   1584   14743308      102   Casa Da Suite                     125   \n",
       "7   2602   18593362       99         Hintown                     185   \n",
       "8   9626   54050937       99          I-Host                     125   \n",
       "9   1848  158317747       97          Giulio                     109   \n",
       "\n",
       "   host_total_listings_countmax  \n",
       "0                           547  \n",
       "1                           404  \n",
       "2                           477  \n",
       "3                           155  \n",
       "4                           239  \n",
       "5                           345  \n",
       "6                           135  \n",
       "7                           481  \n",
       "8                           146  \n",
       "9                           115  "
      ]
     },
     "execution_count": 40,
     "metadata": {},
     "output_type": "execute_result"
    }
   ],
   "source": [
    "#Revisión general de los hosts\n",
    "df_by_host=listings_df[['id','host_id','host_name','host_listings_count','host_total_listings_count']].groupby([\"host_id\"],as_index=False).agg({\n",
    "    'id': ['count'],\n",
    "    'host_name': ['max'],\n",
    "    'host_listings_count' :['max'],\n",
    "    'host_total_listings_count' :['max']\n",
    "})\n",
    "df_by_host.columns = list(map(''.join, df_by_host.columns.values)) #cambia el multiindex por columnas agrupadas\n",
    "#Hosts with more lists\n",
    "df_by_host=df_by_host.sort_values(by=['idcount'], ascending=False).reset_index()\n",
    "df_by_host.head(10)"
   ]
  },
  {
   "cell_type": "code",
   "execution_count": 41,
   "id": "880c573a",
   "metadata": {},
   "outputs": [
    {
     "data": {
      "image/png": "[encoded data removed]",
      "text/plain": [
       "<Figure size 1440x360 with 1 Axes>"
      ]
     },
     "metadata": {
      "needs_background": "light"
     },
     "output_type": "display_data"
    }
   ],
   "source": [
    "x=df_by_host[['host_namemax','idcount']].sort_values(by=['idcount'], ascending=False).head(10)\n",
    "\n",
    "fig, ax = plt.subplots(figsize = (20, 5))\n",
    "bars = ax.bar(x['host_namemax'], x['idcount'], color ='maroon', width = 0.5)\n",
    "ax.bar_label(bars)\n",
    "plt.show()"
   ]
  },
  {
   "cell_type": "code",
   "execution_count": 42,
   "id": "c044a268",
   "metadata": {},
   "outputs": [
    {
     "data": {
      "text/plain": [
       "Italy             17603\n",
       "                   4076\n",
       "United Kingdom       76\n",
       "Switzerland          58\n",
       "Spain                50\n",
       "Name: host_location_country, dtype: int64"
      ]
     },
     "execution_count": 42,
     "metadata": {},
     "output_type": "execute_result"
    }
   ],
   "source": [
    "listings_df['host_location_country'].value_counts().head()"
   ]
  },
  {
   "cell_type": "code",
   "execution_count": 43,
   "id": "00f6137b",
   "metadata": {},
   "outputs": [
    {
     "data": {
      "text/plain": [
       "Milan       15792\n",
       "Rome          162\n",
       "Florence      114\n",
       "Milano        106\n",
       "Lombardy       90\n",
       "Name: host_location_city, dtype: int64"
      ]
     },
     "execution_count": 43,
     "metadata": {},
     "output_type": "execute_result"
    }
   ],
   "source": [
    "listings_df[listings_df['host_location_city']!='']['host_location_city'].value_counts().head()"
   ]
  },
  {
   "cell_type": "code",
   "execution_count": 44,
   "id": "4a8999dd",
   "metadata": {},
   "outputs": [
    {
     "data": {
      "text/plain": [
       "100%    0.706516\n",
       "98%     0.065675\n",
       "99%     0.054755\n",
       "90%     0.022048\n",
       "0%      0.018876\n",
       "85%     0.013260\n",
       "97%     0.012428\n",
       "95%     0.009932\n",
       "80%     0.009048\n",
       "50%     0.008580\n",
       "Name: host_response_rate, dtype: float64"
      ]
     },
     "execution_count": 44,
     "metadata": {},
     "output_type": "execute_result"
    }
   ],
   "source": [
    "listings_df['host_response_rate'].value_counts(normalize=True).head(10)"
   ]
  },
  {
   "cell_type": "code",
   "execution_count": 45,
   "id": "f893830f",
   "metadata": {},
   "outputs": [
    {
     "data": {
      "text/plain": [
       "100%    0.489141\n",
       "99%     0.089170\n",
       "0%      0.057055\n",
       "98%     0.043389\n",
       "97%     0.027478\n",
       "95%     0.021475\n",
       "96%     0.017619\n",
       "50%     0.016985\n",
       "94%     0.013666\n",
       "88%     0.011567\n",
       "Name: host_acceptance_rate, dtype: float64"
      ]
     },
     "execution_count": 45,
     "metadata": {},
     "output_type": "execute_result"
    }
   ],
   "source": [
    "listings_df['host_acceptance_rate'].value_counts(normalize=True).head(10)"
   ]
  },
  {
   "cell_type": "code",
   "execution_count": 46,
   "id": "d0dc3c08",
   "metadata": {},
   "outputs": [
    {
     "data": {
      "image/png": "[encoded data removed]",
      "text/plain": [
       "<Figure size 1440x360 with 1 Axes>"
      ]
     },
     "metadata": {
      "needs_background": "light"
     },
     "output_type": "display_data"
    }
   ],
   "source": [
    "plt.figure(figsize = (20, 5))\n",
    "listings_df['host_since_months'].hist(bins=100)\n",
    "plt.show()"
   ]
  },
  {
   "cell_type": "code",
   "execution_count": 47,
   "id": "eae54f97",
   "metadata": {},
   "outputs": [
    {
     "data": {
      "text/plain": [
       "Entire home/apt    0.866128\n",
       "Private room       0.125339\n",
       "Shared room        0.007901\n",
       "Hotel room         0.000632\n",
       "Name: room_type, dtype: float64"
      ]
     },
     "execution_count": 47,
     "metadata": {},
     "output_type": "execute_result"
    }
   ],
   "source": [
    "# Calculating the relative frecuency of room types\n",
    "listings_df[\"room_type\"].value_counts(dropna=False, normalize=True) # You can set normalize to False for calculating the absolute frecuency"
   ]
  },
  {
   "cell_type": "code",
   "execution_count": 48,
   "id": "35a2314f-25d7-4cf8-bc4f-48da44610479",
   "metadata": {},
   "outputs": [
    {
     "data": {
      "text/plain": [
       "count    22148.000000\n",
       "mean         3.233836\n",
       "std          1.492988\n",
       "min          1.000000\n",
       "5%           2.000000\n",
       "25%          2.000000\n",
       "50%          3.000000\n",
       "75%          4.000000\n",
       "95%          6.000000\n",
       "max         16.000000\n",
       "Name: accommodates, dtype: float64"
      ]
     },
     "execution_count": 48,
     "metadata": {},
     "output_type": "execute_result"
    }
   ],
   "source": [
    "# Calculating basic statistics of accommodates\n",
    "listings_df[\"accommodates\"].describe(percentiles=[0.05, 0.25, 0.5, 0.75, 0.95])"
   ]
  },
  {
   "cell_type": "code",
   "execution_count": 49,
   "id": "75953d31",
   "metadata": {},
   "outputs": [
    {
     "data": {
      "text/plain": [
       "count    22141.000000\n",
       "mean         1.145386\n",
       "std          0.432060\n",
       "min          0.000000\n",
       "5%           1.000000\n",
       "25%          1.000000\n",
       "50%          1.000000\n",
       "75%          1.000000\n",
       "95%          2.000000\n",
       "max         21.000000\n",
       "Name: bathrooms, dtype: float64"
      ]
     },
     "execution_count": 49,
     "metadata": {},
     "output_type": "execute_result"
    }
   ],
   "source": [
    "# Calculating basic statistics of accommodates\n",
    "listings_df[\"bathrooms\"].describe(percentiles=[0.05, 0.25, 0.5, 0.75, 0.95])"
   ]
  },
  {
   "cell_type": "code",
   "execution_count": 50,
   "id": "293906f8",
   "metadata": {},
   "outputs": [
    {
     "data": {
      "text/plain": [
       "1              0.874966\n",
       "4+             0.107688\n",
       "2-3            0.012919\n",
       "shared bath    0.004427\n",
       "Name: bathrooms_group, dtype: float64"
      ]
     },
     "execution_count": 50,
     "metadata": {},
     "output_type": "execute_result"
    }
   ],
   "source": [
    "listings_df['bathrooms_group'].value_counts(normalize=True)"
   ]
  },
  {
   "cell_type": "code",
   "execution_count": 51,
   "id": "44102adc",
   "metadata": {},
   "outputs": [
    {
     "data": {
      "text/plain": [
       "1.0     0.740490\n",
       "2.0     0.167570\n",
       "0.0     0.057016\n",
       "3.0     0.028327\n",
       "4.0     0.005060\n",
       "5.0     0.001310\n",
       "6.0     0.000090\n",
       "8.0     0.000045\n",
       "11.0    0.000045\n",
       "7.0     0.000045\n",
       "Name: bedrooms, dtype: float64"
      ]
     },
     "execution_count": 51,
     "metadata": {},
     "output_type": "execute_result"
    }
   ],
   "source": [
    "listings_df['bedrooms'].value_counts(normalize=True)"
   ]
  },
  {
   "cell_type": "code",
   "execution_count": 52,
   "id": "9407cd64",
   "metadata": {},
   "outputs": [
    {
     "data": {
      "text/plain": [
       "1.0     0.374004\n",
       "2.0     0.334344\n",
       "0.0     0.131519\n",
       "3.0     0.096840\n",
       "4.0     0.040656\n",
       "5.0     0.011952\n",
       "6.0     0.006248\n",
       "7.0     0.002083\n",
       "8.0     0.001177\n",
       "9.0     0.000453\n",
       "10.0    0.000226\n",
       "12.0    0.000181\n",
       "14.0    0.000136\n",
       "11.0    0.000091\n",
       "17.0    0.000045\n",
       "18.0    0.000045\n",
       "Name: beds, dtype: float64"
      ]
     },
     "execution_count": 52,
     "metadata": {},
     "output_type": "execute_result"
    }
   ],
   "source": [
    "listings_df['beds'].value_counts(normalize=True)"
   ]
  },
  {
   "cell_type": "code",
   "execution_count": 53,
   "id": "4b38734f",
   "metadata": {},
   "outputs": [
    {
     "data": {
      "text/plain": [
       "count    22148.000000\n",
       "mean        12.453585\n",
       "std         20.582609\n",
       "min          0.000000\n",
       "25%          0.000000\n",
       "50%          4.000000\n",
       "75%         15.000000\n",
       "max        431.000000\n",
       "Name: number_of_reviews_ltm, dtype: float64"
      ]
     },
     "execution_count": 53,
     "metadata": {},
     "output_type": "execute_result"
    }
   ],
   "source": [
    "listings_df['number_of_reviews_ltm'].describe()"
   ]
  },
  {
   "cell_type": "code",
   "execution_count": 54,
   "id": "80a93430",
   "metadata": {},
   "outputs": [
    {
     "data": {
      "text/plain": [
       "count    18674.000000\n",
       "mean         1.782753\n",
       "std          2.037160\n",
       "min          0.010000\n",
       "25%          0.360000\n",
       "50%          1.000000\n",
       "75%          2.470000\n",
       "max         27.690000\n",
       "Name: reviews_per_month, dtype: float64"
      ]
     },
     "execution_count": 54,
     "metadata": {},
     "output_type": "execute_result"
    }
   ],
   "source": [
    "listings_df['reviews_per_month'].describe()"
   ]
  },
  {
   "cell_type": "markdown",
   "id": "f2a80c16",
   "metadata": {},
   "source": [
    "## Save clean df"
   ]
  },
  {
   "cell_type": "code",
   "execution_count": 55,
   "id": "381669bc",
   "metadata": {},
   "outputs": [],
   "source": [
    "listings_df.to_csv('./milan_listings_clean.csv', index=False)"
   ]
  },
  {
   "cell_type": "code",
   "execution_count": 56,
   "id": "1ffd06fd",
   "metadata": {},
   "outputs": [],
   "source": [
    "# Profiling general\n",
    "# profile = ProfileReport(listings_df, title=\"Profiling Listing Milan\")\n",
    "# #Generate Report\n",
    "# profile.to_file('report2.html')"
   ]
  }
 ],
 "metadata": {
  "kernelspec": {
   "display_name": "Python 3 (ipykernel)",
   "language": "python",
   "name": "python3"
  },
  "language_info": {
   "codemirror_mode": {
    "name": "ipython",
    "version": 3
   },
   "file_extension": ".py",
   "mimetype": "text/x-python",
   "name": "python",
   "nbconvert_exporter": "python",
   "pygments_lexer": "ipython3",
   "version": "3.9.12"
  }
 },
 "nbformat": 4,
 "nbformat_minor": 5
}
